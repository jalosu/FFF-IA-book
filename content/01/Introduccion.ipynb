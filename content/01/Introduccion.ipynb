{
 "cells": [
  {
   "cell_type": "markdown",
   "id": "2aeb4ca7-0271-44a9-be72-ed259c738c7e",
   "metadata": {},
   "source": [
    "# Predicción del peso del lenguado a partir de variables morfológicas\n",
    "\n",
    "**Autor**: Javier A. Osuna  \n",
    "**Email**: javier.osuna@fishfarmfeeder.com  \n",
    "**ORCID**: [0000-0001-7063-1279](https://orcid.org/0000-0001-7063-1279)  \n",
    "**Licencia**: CC-BY-4.0  \n",
    "**Palabras clave**: machine learning, artificial intelligence, open-science\n"
   ]
  },
  {
   "cell_type": "markdown",
   "id": "012d2e02-c750-4297-ad7f-58b8f4bbdbd5",
   "metadata": {},
   "source": [
    "```{hint} #### Resumen\n",
    "\n",
    "La predicción del peso del lenguado (*Solea solea*) a partir de su superficie es un problema relevante en acuicultura, especialmente para la optimización de la alimentación y el control del crecimiento. Este estudio presenta un método para el desarrollo de un algoritmo de predicción del peso del lenguado a partir de variables morfológicas extraídas mediante visión artificial. Las variables consideradas incluyen la longitud, la anchura y la superficie real del pez, obtenidas automáticamente a partir de imágenes digitales en condiciones controladas. El algoritmo, basado en técnicas de regresión y aprendizaje automático, se ha diseñado para integrarse en un sistema autónomo de clasificación y estimación de peso en tiempo real, con aplicación directa al *gradding* automatizado de alevines en tres categorías de tamaño: pequeño, mediano y grande. Este enfoque proporciona una solución precisa y escalable para optimizar el manejo de peces en sistemas de acuicultura, contribuyendo a una mejora en la eficiencia operativa y el bienestar animal.\n",
    "\n",
    "```"
   ]
  },
  {
   "cell_type": "markdown",
   "id": "fe00a65d-2c4e-4fbf-a14b-caa4e3b910e3",
   "metadata": {},
   "source": [
    "## Introducción \n",
    "\n",
    "La acuicultura es uno de los sectores de producción de alimentos de más rápido crecimiento a nivel\n",
    "mundial, con un incremento anual del 5.3% en la última década [[FAO, 2024]](https://doi.org/10.4060/cd0683en). Dentro de este sector, la cría de\n",
    "peces planos, como el lenguado (*Solea solea*) y el rodaballo (Scophthalmus maximus), representa un\n",
    "nicho importante debido a su alto valor comercial y demanda en mercados gourmet. Sin embargo, la\n",
    "producción de estos peces enfrenta desafíos significativos en la fase de alevinaje, donde la clasificación\n",
    "de alevines por tamaño y la estimación de su peso son procesos críticos para garantizar un crecimiento\n",
    "uniforme y maximizar la supervivencia [[Naylor et al., 2021]](https://doi.org/10.1038/s41586-021-03308-6).\n",
    "\n",
    "La clasificación de alevines es un proceso laborioso propenso a errores que también consume tiempo y recursos, lo que reduce la eficiencia operativa y aumenta los costos de producción [[Papandroulakis et al., 2002]](https://doi.org/10.1016/S0144-8609(01)00091-7). En la actualidad la industria está usando sistemas semi-automáticos para la clasificación de alevines, que si bien suponen una clara mejora, aún presentan limitaciones significativas. Uno de los principales problemas es que estos sistemas suelen basarse en un único criterio de clasificación: el peso o la altura del pez. Esta falta de multifactorialidad en el proceso de clasificación (gradding en térmico anglosajón) limita su sensibilidad y precisión. Por ejemplo, un sistema que solo mide el peso puede pasar por alto variaciones importantes en la morfología del pez, como la longitud o el ancho, que también son indicadores clave de su desarrollo y salud. De manera similar, un sistema que solo considera la altura puede no capturar adecuadamente las diferencias en el volumen o la condición corporal de los alevines, lo que puede llevar a una clasificación subóptima.\n",
    "\n",
    "Esta dependencia de un único parámetro no solo reduce la eficacia del proceso de clasificación, sino que también puede generar resultados inconsistentes. Por ejemplo, dos peces con el mismo peso podrían tener formas corporales muy diferentes, lo que afectaría su crecimiento futuro y su adaptación a los tanques de engorde. Además, estos sistemas semi-automáticos suelen ser extremadamente invasivos, ya que requieren manipulación física para medir el peso o la altura, lo que aumenta el estrés en los peces y puede elevar las tasas de mortalidad hasta un 15% en algunos casos [[Føre et al., 2018]](https://doi.org/10.1016/j.biosystemseng.2017.10.014). Esta falta de sensibilidad en el proceso de gradding limitan la capacidad de los productores para optimizar el manejo de los alevines, lo que puede resultar en una alta variabilidad en el crecimiento y una reducción en la calidad del producto final. no solo afecta la calidad del producto final, sino que también limita la capacidad de los productores para optimizar el manejo de los alevines y garantizar un crecimiento uniforme.\n",
    "\n",
    "La limitación de los sistemas semi-automáticos a un único criterio de clasificación subraya la necesidad de adoptar tecnologías más avanzadas que puedan integrar múltiples parámetros morfométricos en tiempo real. Aquí es donde entra en juego la inteligencia artificial (IA). Tecnologías avanzadas de inteligencia artificial (IA) como el reconocimiento de imágenes (visión por computador) y aprendizaje profundo ofrece una solución prometedora. Las redes neuronales convolucionales (CNN) han demostrado ser herramientas poderosas para tareas de clasificación y segmentación de imágenes en múltiples dominios. Por ejemplo, trabajos recientes han utilizado CNN para la identificación de enfermedades en peces y la estimación de biomasa en sistemas de cultivo [[Hasan et al., 2022](https://doi.org/10.22075/ijnaa.2022.5839), [Haddad et al., 2024](https://www.researchgate.net/publication/384679490_A_Convolutional_Neural_Network_Approach_for_Precision_Fish_Disease_Detection)]. Estas tecnologías no solo ofrecen altos niveles de precisión, sino que también permiten el procesamiento en tiempo real, un requisito indispensable en aplicaciones industriales. En el caso específico de la clasificación de alevines, la IA permite combinar precisión en la identificación de tamaños con la estimación de parámetros morfométricos, como longitud, anchura y superficie visible del pez, para estimar su peso sin necesidad de contacto físico.\n",
    "\n",
    "La capacidad de estos sistemas para proporcionar los datos en tiempo real sobre las poblaciones de alevines proporciona a los operadores información valiosa para la toma de decisiones estratégicas, como el ajuste de tasas de alimentación o el diseño de planes de transferencia a estanques de engorde, lo que mejora significativamente la eficiencia operativa, reduciendo los costos y aumentando la rentabilidad de las operaciones acuícolas [[Kandimalia et al., 2022](https://doi.org/10.3389/fmars.2021.823173)], [[Naylor et al., 2021]](https://doi.org/10.1038/s41586-021-03308-6). Adicionalmente, la implantación de estos sistemas inteligentes de clasificación también contribuye a la sostenibilidad ambiental y económica de las piscifactorías. Al clasificar de forma más precisa y eficiente, se optimizan los recursos alimenticios y se reduce el desperdicio de alimento, que es uno de los costos más significativos en la acuicultura. \n",
    "\n",
    "FishFarmFeeder (Feeding Systems S.L.) está desarrollando un sistema de clasificación inteligente (gradding) basado en visión artificial y algoritmos de aprendizaje automático. Este sistema optimiza la eficiencia operativa en la industria de la acuicultura al permitir la clasificación precisa y en tiempo real de los peces en diferentes tamaños, garantizando una integración fluida en las líneas de producción existentes. La implementación de este sistema busca mejorar la productividad, reducir costos operativos y proporcionar datos estadísticos para la optimización del manejo y alimentación de los peces.\n",
    "\n",
    "Este sistema se basa en una arquitectura de procesamiento distribuido que integra visión artificial, algoritmos de procesamiento de imágenes y modelos de aprendizaje automático para la clasificación y estimación del peso de los alevines en tiempo real. El flujo operativo se divide en dos fases principales: una fase de muestreo y parametrización, en la que se establecen los criterios de clasificación a partir del análisis estadístico de una muestra representativa, y una fase de operación continua, en la que el sistema ejecuta la clasificación y la estimación de peso de cada pez mientras este atraviesa la línea de producción.\n",
    "\n",
    "En el desarrollo de modelos predictivos para estimar el peso de lenguados en acuicultura, la disponibilidad de un conjunto de datos amplio y representativo es un factor determinante para garantizar la precisión y robustez del algoritmo. Sin embargo, en muchos casos, la recopilación de datos experimentales es limitada debido a restricciones logísticas, económicas o temporales. Para superar esta limitación, resulta fundamental implementar un algoritmo capaz de generar datos sintéticos de tamaño y peso de lenguados, asegurando así un dataset lo suficientemente extenso y variado. Este conjunto de datos sintético permitirá entrenar y validar de manera más efectiva los algoritmos de predicción de peso, mejorando su capacidad de generalización y minimizando el riesgo de sobreajuste a muestras reducidas.\n",
    "\n",
    "Este artículo presenta las líneas de trabajo desarrolladas para la generación de un dataset sintético de tamaño y peso de lenguados, con el objetivo de proporcionar una base de datos suficientemente amplia y representativa para el entrenamiento y validación de modelos predictivos. Se detallan las metodologías utilizadas en la generación de datos sintéticos, incluyendo la modelización estadística de distribuciones empíricas, técnicas de simulación basadas en procesos de crecimiento biológico y enfoques de aprendizaje automático para la síntesis de datos realistas. Además, se analizan los criterios de validación empleados para garantizar que los datos generados reflejen fielmente las tendencias y variabilidad observadas en poblaciones reales de lenguado, asegurando así su utilidad en el desarrollo de algoritmos precisos y generalizables para la predicción del peso. Los trabajos realizados se han dividido en dos partes: la primera centrada en el **estudio matemático de las relaciones entre las dimensiones morfológicas y el peso de los alevines** a partir de datos experimentales; la segunda en el desarrollo del **algoritmo de creación de datos sintéticos** propiamente dicho que nos permita desarrollar un modelo predictivo de peso a partir de las dimensiones de un lenguado."
   ]
  },
  {
   "cell_type": "markdown",
   "id": "8b1dc075-7c6b-4369-ae80-5d6e8c25ed70",
   "metadata": {},
   "source": [
    "::::{grid}\n",
    ":gutter: 2\n",
    "\n",
    ":::{grid-item-card} Relaciones morfológicas y peso\n",
    ":link: Coeficientes\n",
    ":link-type: doc\n",
    "Análisis de algoritmos predictivos\n",
    "\n",
    ":::\n",
    "\n",
    ":::{grid-item-card} Datos sintéticos\n",
    ":link: Generador\n",
    ":link-type: doc\n",
    "Generador datos sintéticos morfológicos\n",
    ":::\n",
    "\n",
    "\n",
    "::::"
   ]
  },
  {
   "cell_type": "markdown",
   "id": "491f9fb8-01aa-4c0e-a89e-b99915815b68",
   "metadata": {},
   "source": [
    "````{bibliography}\n",
    "````"
   ]
  }
 ],
 "metadata": {
  "kernelspec": {
   "display_name": "Python 3 (ipykernel)",
   "language": "python",
   "name": "python3"
  },
  "language_info": {
   "codemirror_mode": {
    "name": "ipython",
    "version": 3
   },
   "file_extension": ".py",
   "mimetype": "text/x-python",
   "name": "python",
   "nbconvert_exporter": "python",
   "pygments_lexer": "ipython3",
   "version": "3.13.2"
  }
 },
 "nbformat": 4,
 "nbformat_minor": 5
}
