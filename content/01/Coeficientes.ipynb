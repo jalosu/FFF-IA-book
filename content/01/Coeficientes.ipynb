{
 "cells": [
  {
   "cell_type": "markdown",
   "id": "df11ba96-1d85-4c08-adee-7a600127492a",
   "metadata": {},
   "source": [
    "# Estudio matemático de las relaciones entre las dimensiones morfológicas y el peso"
   ]
  },
  {
   "cell_type": "markdown",
   "id": "c817dfec-2411-44ef-b518-75a3b10aa850",
   "metadata": {},
   "source": [
    "## Justificación matemática y biológica"
   ]
  },
  {
   "cell_type": "markdown",
   "id": "1ec002d9-5e01-42ed-b824-e8ad6120e5a1",
   "metadata": {},
   "source": [
    "La relación entre la longitud y el peso en peces suele seguir la ley cúbica ($W\\propto L^{3}$), pero en peces planos como el lenguado, la relación superficie-peso es más adecuada, ya que su cuerpo es achatado y su crecimiento no es isométrico. Los trabajos de [[Froese et al., 2006]](https://doi.org/10.1111/j.1439-0426.2006.00805.x) y [[Haddon et al., 2011]](https://doi.org/10.1111/j.1751-5823.2012.00179\\_26.x) pusieron de manifiesto que en peces planos existe una correlación entre el peso del individuo ($W$) y la superficie ($S$) del mismo que viene dada por la expresión matemática:\n",
    "\n",
    "```{math}\n",
    ":label: eq_peso\n",
    "W=aS^b\n",
    "```\n",
    "en donde:\n",
    "- $a$ es un coeficiente empírico que depende de la especie y las condiciones de cultivo.\n",
    "- $b$ es un exponente que describe la tasa de crecimiento en función de la superficie.\n",
    "\n",
    "ya que la altura es menos predictiva que la longitud - anchura (L/A) que sólo contribuye $\\sim5\\%$ en modelos morfológicos.\n",
    "\n",
    "Para obtener valores específicos de ay b, se suelen ajustar datos experimentales usando regresión no lineal minimizando el error cuadrático medio:\n",
    "\n",
    "```{math}\n",
    ":label: eq_ECM\n",
    "ECM=\\dfrac{1}{N}\\sum_{i=1}^N(W_i-aS_i^b)^2\n",
    "```\n",
    "\n",
    "[[Torres et al., 2012]](https://doi.org/10.1111/j.1095-8649.2011.03223.x) recoge que en experimentos realizados con peces planos de las familias Soleidae y Pleuronectidae los coeficientes de la ecuación (1) toman los siguientes valores:\n",
    "\n",
    "```{math}\n",
    "a\\approx0.03\\quad b\\approx1.1-1.4\n",
    "```\n",
    "\n",
    "habiendo estimado que en el caso concreto del lenguado estos coeficientes son: $a=0.024\\quad b=1.32$\n",
    "\n",
    "Sin embargo, más recientemente los trabajos de [[Freitas et al.,2021]](https://doi.org/0.1016/j.aqrep.2021.100676) con *Paralichthys olivaceus* (falso Halibut del japón) apuntán a que una relación volumétrica es más adecuada si se tiene en cuenta la comprensión dorsoventral. Esta parámetro morfológico actúa como un factor de corrección que hace que el volumen real sea $\\approx70-80\\%$ de LxAxH, siendo concretamente de $0.72$ en el Halibut. Según estos autores el peso de los peces de esta especie se ajustan a la siguiente expresión matemática:\n",
    "\n",
    "```{math}\n",
    "W=1,05\\cdot V^{0,98}\n",
    "```\n",
    "[[Lee et al., 2019]](https://doi.org/0.1007/s12562-019-01287-2) usaron un escáner 3D para medir el volumen real en *Scophthalmus maximus* (Rodaballo) encontrando que el peso de los ejemplares del estudio se ajustan a la expresión:\n",
    "```{math}\n",
    "W=1,12\\cdot V-3,25\\quad(R^{2}=0,96)\n",
    "```"
   ]
  },
  {
   "cell_type": "markdown",
   "id": "fddc4933-8773-480d-a19d-6622e2f45ddd",
   "metadata": {},
   "source": [
    "## Estimacion directa de coeficientes\n",
    "Para la estimación de los valores específicos de $a$ y $b$ usaremos el  dataset `Dimensiones_lenguado.xls` con N=200 registros de alevines de lenguado de longitud comprendida entre los $3.3$ y los $11.4\\,cm$ de longitud, con rangos de peso comprendido entre los $0.46$ y los $21.98\\,g$ de peso. Los diferentes modelos de ajuste evaluados fueron ejecutados en un entorno Jupyterlab haciendo uso de librerías python especializadas como: pandas, numpy y scikit-learn."
   ]
  },
  {
   "cell_type": "markdown",
   "id": "90f639e9-e805-4e3c-8852-4e8d6ad43bc7",
   "metadata": {},
   "source": [
    "### Parte 1"
   ]
  }
 ],
 "metadata": {
  "kernelspec": {
   "display_name": "Python 3 (ipykernel)",
   "language": "python",
   "name": "python3"
  },
  "language_info": {
   "codemirror_mode": {
    "name": "ipython",
    "version": 3
   },
   "file_extension": ".py",
   "mimetype": "text/x-python",
   "name": "python",
   "nbconvert_exporter": "python",
   "pygments_lexer": "ipython3",
   "version": "3.13.2"
  }
 },
 "nbformat": 4,
 "nbformat_minor": 5
}
