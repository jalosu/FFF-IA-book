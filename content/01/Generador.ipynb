{
 "cells": [
  {
   "cell_type": "markdown",
   "id": "edacb949-7f43-44dd-b752-90d9bebb70df",
   "metadata": {},
   "source": [
    "# Generador"
   ]
  },
  {
   "cell_type": "code",
   "execution_count": null,
   "id": "4d31c057-7bc4-426c-829c-9fad344f2a3d",
   "metadata": {},
   "outputs": [],
   "source": []
  }
 ],
 "metadata": {
  "kernelspec": {
   "display_name": "Python 3 (ipykernel)",
   "language": "python",
   "name": "python3"
  },
  "language_info": {
   "codemirror_mode": {
    "name": "ipython",
    "version": 3
   },
   "file_extension": ".py",
   "mimetype": "text/x-python",
   "name": "python",
   "nbconvert_exporter": "python",
   "pygments_lexer": "ipython3",
   "version": "3.13.2"
  }
 },
 "nbformat": 4,
 "nbformat_minor": 5
}
